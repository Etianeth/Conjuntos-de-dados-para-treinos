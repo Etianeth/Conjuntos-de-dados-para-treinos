{
  "nbformat": 4,
  "nbformat_minor": 0,
  "metadata": {
    "colab": {
      "name": "Untitled1.ipynb",
      "provenance": [],
      "authorship_tag": "ABX9TyNbGWTA9gf7Dcp+LbTTFsRY",
      "include_colab_link": true
    },
    "kernelspec": {
      "name": "python3",
      "display_name": "Python 3"
    },
    "language_info": {
      "name": "python"
    }
  },
  "cells": [
    {
      "cell_type": "markdown",
      "metadata": {
        "id": "view-in-github",
        "colab_type": "text"
      },
      "source": [
        "<a href=\"https://colab.research.google.com/github/Etianeth/Conjuntos-de-dados-para-treinos/blob/main/Untitled1.ipynb\" target=\"_parent\"><img src=\"https://colab.research.google.com/assets/colab-badge.svg\" alt=\"Open In Colab\"/></a>"
      ]
    },
    {
      "cell_type": "code",
      "execution_count": 1,
      "metadata": {
        "id": "KFB9zip3OtZt"
      },
      "outputs": [],
      "source": [
        "import pandas as pd\n"
      ]
    },
    {
      "cell_type": "code",
      "source": [
        "df = pd.read_csv('https://drive.google.com/file/d/17iFTNccTgrfhRBXKkpra1X2wibbyfFJE/view?usp=sharing.csv')\n",
        "df.head()"
      ],
      "metadata": {
        "id": "lJvhnVetPZdP"
      },
      "execution_count": null,
      "outputs": []
    }
  ]
}
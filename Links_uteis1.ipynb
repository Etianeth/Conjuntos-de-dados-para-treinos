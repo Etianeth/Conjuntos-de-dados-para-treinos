{
  "nbformat": 4,
  "nbformat_minor": 0,
  "metadata": {
    "colab": {
      "name": "Links uteis1.ipynb",
      "provenance": [],
      "authorship_tag": "ABX9TyNFw7ZThOptYGOaaIWlvBl3",
      "include_colab_link": true
    },
    "kernelspec": {
      "name": "python3",
      "display_name": "Python 3"
    },
    "language_info": {
      "name": "python"
    }
  },
  "cells": [
    {
      "cell_type": "markdown",
      "metadata": {
        "id": "view-in-github",
        "colab_type": "text"
      },
      "source": [
        "<a href=\"https://colab.research.google.com/github/Etianeth/Conjuntos-de-dados-para-treinos/blob/main/Links_uteis1.ipynb\" target=\"_parent\"><img src=\"https://colab.research.google.com/assets/colab-badge.svg\" alt=\"Open In Colab\"/></a>"
      ]
    },
    {
      "cell_type": "markdown",
      "source": [
        "https://translate.googleusercontent.com/translate_f\n",
        "\n",
        "Descobri que posso traduzir livros no google tradutor\n",
        "\n",
        "https://www.ti-enxame.com/pt/python/como-carregar-o-arquivo-csv-no-jupyter-notebook/810490801/\n",
        "### Finalmente consegui abrir um arquivo tanto csvcomo xls com esse mesmo código no jupiter notebook no anaconda\n"
      ],
      "metadata": {
        "id": "yyYJ2nenF138"
      }
    },
    {
      "cell_type": "markdown",
      "source": [
        "https://pandas.pydata.org/pandas-docs/stable/reference/api/pandas.read_csv.html\n",
        "\n",
        "Como usar o método read_csv\n",
        "\n",
        "https://pandas.pydata.org/pandas-docs/stable/reference/frame.html\n",
        "\n",
        "Operações com dataframes\n",
        "\n",
        "https://docs.github.com/pt/repositories/working-with-files/managing-files/adding-a-file-to-a-repository\n",
        "\n",
        "Adicionando arquivos ao github"
      ],
      "metadata": {
        "id": "zWDWVSP98Sma"
      }
    },
    {
      "cell_type": "markdown",
      "source": [
        "https://nymarya.github.io/5-modos-de-carregar-arquivos-no-google-colab/\n",
        "\n",
        "Maneiras de importar arquivos no google colab a partir da máquina"
      ],
      "metadata": {
        "id": "dkMBbEun7CZ6"
      }
    },
    {
      "cell_type": "markdown",
      "source": [
        ""
      ],
      "metadata": {
        "id": "iS3odrG1LIGX"
      }
    },
    {
      "cell_type": "markdown",
      "source": [
        "https://www2.microstrategy.com/producthelp/2019/Desktop/WebHelp/Lang_1046/Content/Importing_data_from_URL.htm\n",
        "\n",
        "Sinto que pode me ajudar a guardar csv em um link, mas ainda não estou a entender nada.\n"
      ],
      "metadata": {
        "id": "fIuTI90jK_75"
      }
    }
  ]
}